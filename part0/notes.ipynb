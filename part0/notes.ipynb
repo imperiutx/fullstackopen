{
 "cells": [
  {
   "cell_type": "code",
   "execution_count": 1,
   "metadata": {
    "dotnet_interactive": {
     "language": "mermaid"
    },
    "polyglot_notebook": {
     "kernelName": "mermaid"
    }
   },
   "outputs": [
    {
     "data": {
      "text/html": [
       "<div class=\"mermaidMarkdownContainer\" style=\"background-color:white\">\n",
       "<link rel=\"stylesheet\" href=\"https://cdnjs.cloudflare.com/ajax/libs/font-awesome/6.2.0/css/all.min.css\">\n",
       "<script type=\"text/javascript\">\n",
       "\r\n",
       "loadMermaid_55d709b425ca45c2ba0456e9b2e62779 = () => {\n",
       " \r\n",
       "        (require.config({ 'paths': { 'context': '9.1.7', 'mermaidUri' : 'https://cdn.jsdelivr.net/npm/mermaid@9.1.7/dist/mermaid.min', 'urlArgs': 'cacheBuster=bc2032317be94f6eb124907137723492' }}) || require)(['mermaidUri'], (mermaid) => {\n",
       "\r\n",
       "            let renderTarget = document.getElementById('55d709b425ca45c2ba0456e9b2e62779');\r\n",
       "            mermaid.mermaidAPI.render( \r\n",
       "                'mermaid_55d709b425ca45c2ba0456e9b2e62779', \r\n",
       "                `sequenceDiagram\n",
       "    participant browser\n",
       "    participant server\n",
       "\n",
       "    browser->>server: GET https://studies.cs.helsinki.fi/exampleapp/notes\n",
       "    activate server\n",
       "    server-->>browser: HTML document\n",
       "    deactivate server\n",
       "\n",
       "    browser->>server: GET https://studies.cs.helsinki.fi/exampleapp/main.css\n",
       "    activate server\n",
       "    server-->>browser: the css file\n",
       "    deactivate server\n",
       "\n",
       "    browser->>server: GET https://studies.cs.helsinki.fi/exampleapp/main.js\n",
       "    activate server\n",
       "    server-->>browser: the JavaScript file\n",
       "    deactivate server\n",
       "\n",
       "    Note right of browser: The browser starts executing the JavaScript code that fetches the JSON from the server\n",
       "\n",
       "    browser->>server: GET https://studies.cs.helsinki.fi/exampleapp/data.json\n",
       "    activate server\n",
       "    server-->>browser: [{ \"content\": \"HTML is easy\", \"date\": \"2023-1-1\" }, ... ]\n",
       "    deactivate server\n",
       "\n",
       "    Note right of browser: The browser executes the callback function that renders the notes`, \r\n",
       "                g => {\r\n",
       "                    renderTarget.innerHTML = g \r\n",
       "                });\r\n",
       "        },\r\n",
       "        (error) => {\r\n",
       "            console.log(error);\r\n",
       "        });\r\n",
       "}\n",
       "// ensure `require` is available globally\r\n",
       "if ((typeof(require) !==  typeof(Function)) || (typeof(require.config) !== typeof(Function))) {\r\n",
       "    let require_script = document.createElement('script');\r\n",
       "    require_script.setAttribute('src', 'https://cdnjs.cloudflare.com/ajax/libs/require.js/2.3.6/require.min.js');\r\n",
       "    require_script.setAttribute('type', 'text/javascript');\r\n",
       "    \r\n",
       "    \r\n",
       "    require_script.onload = function() {\r\n",
       "        loadMermaid_55d709b425ca45c2ba0456e9b2e62779();\r\n",
       "    };\r\n",
       "\r\n",
       "    document.getElementsByTagName('head')[0].appendChild(require_script);\r\n",
       "}\r\n",
       "else {\r\n",
       "    loadMermaid_55d709b425ca45c2ba0456e9b2e62779();\r\n",
       "}\r\n",
       "\n",
       "</script>\n",
       "<div id=\"55d709b425ca45c2ba0456e9b2e62779\"></div>\n",
       "</div>\n"
      ]
     },
     "metadata": {},
     "output_type": "display_data"
    }
   ],
   "source": [
    "sequenceDiagram\n",
    "    participant browser\n",
    "    participant server\n",
    "\n",
    "    browser->>server: GET https://studies.cs.helsinki.fi/exampleapp/notes\n",
    "    activate server\n",
    "    server-->>browser: HTML document\n",
    "    deactivate server\n",
    "\n",
    "    browser->>server: GET https://studies.cs.helsinki.fi/exampleapp/main.css\n",
    "    activate server\n",
    "    server-->>browser: the css file\n",
    "    deactivate server\n",
    "\n",
    "    browser->>server: GET https://studies.cs.helsinki.fi/exampleapp/main.js\n",
    "    activate server\n",
    "    server-->>browser: the JavaScript file\n",
    "    deactivate server\n",
    "\n",
    "    Note right of browser: The browser starts executing the JavaScript code that fetches the JSON from the server\n",
    "\n",
    "    browser->>server: GET https://studies.cs.helsinki.fi/exampleapp/data.json\n",
    "    activate server\n",
    "    server-->>browser: [{ \"content\": \"HTML is easy\", \"date\": \"2023-1-1\" }, ... ]\n",
    "    deactivate server\n",
    "\n",
    "    Note right of browser: The browser executes the callback function that renders the notes"
   ]
  }
 ],
 "metadata": {
  "kernelspec": {
   "display_name": ".NET (C#)",
   "language": "C#",
   "name": ".net-csharp"
  },
  "language_info": {
   "name": "polyglot-notebook"
  },
  "polyglot_notebook": {
   "kernelInfo": {
    "defaultKernelName": "mermaid",
    "items": [
     {
      "aliases": [],
      "languageName": "mermaid",
      "name": "mermaid"
     }
    ]
   }
  }
 },
 "nbformat": 4,
 "nbformat_minor": 2
}
